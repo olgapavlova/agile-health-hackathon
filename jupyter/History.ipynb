{
 "cells": [
  {
   "cell_type": "code",
   "execution_count": 183,
   "id": "ac0d42b1-93f1-4a89-afd0-5668e66c92db",
   "metadata": {},
   "outputs": [],
   "source": [
    "import numpy as np\n",
    "import pandas as pd\n",
    "\n",
    "pd.set_option('display.notebook_repr_html', False)\n",
    "pd.set_option('display.max_columns', 8)\n",
    "pd.set_option('display.max_rows', 10)\n",
    "pd.set_option('display.width', 80)\n",
    "\n",
    "import datetime\n",
    "from datetime import datetime, date"
   ]
  },
  {
   "cell_type": "markdown",
   "id": "3cdb7616-8687-4164-bfc0-2c01040a5260",
   "metadata": {},
   "source": [
    "#### Загрузка сырья из файла\n",
    "* [x] Проблема с ключом. Не во всех строках есть ключ. Удаляем их. Потом создаём ключ.\n",
    "* [x] Столбцы Unnamed и Строка1 пустые. Удалить.\n",
    "* [ ] По уму надо удалять все колонки, где ничего нет. Но пока указываем вручную.\n",
    "* [x] Распознать даты."
   ]
  },
  {
   "cell_type": "code",
   "execution_count": null,
   "id": "a53d18e0-091a-4507-a917-569143bd628f",
   "metadata": {},
   "outputs": [],
   "source": []
  },
  {
   "cell_type": "code",
   "execution_count": 185,
   "id": "c32421f4-d004-480a-aa12-4394292eda4f",
   "metadata": {},
   "outputs": [],
   "source": [
    "history_file = '/Users/op/dev/olgapavlova/agile-health-hackathon/csv/history-Table 1.csv'\n",
    "\n",
    "date_parser = lambda x: pd.to_datetime(x, format='%d/%m/%Y HH:MM')\n",
    "\n",
    "dhis = pd.read_csv(history_file,\n",
    "                   dtype = {\n",
    "                               'entity_id': 'Int64',\n",
    "                               'history_version': 'Int64',\n",
    "                   },\n",
    "                   header=1,               # в первой строчке мусор, во второй — названия колонок\n",
    "                   delimiter=';')"
   ]
  },
  {
   "cell_type": "markdown",
   "id": "95241134-2020-44e3-9315-db79d28b0b86",
   "metadata": {},
   "source": [
    "##### Установка ключа"
   ]
  },
  {
   "cell_type": "code",
   "execution_count": 187,
   "id": "03d49e6d-bd3d-48ad-a422-da2f79a8acda",
   "metadata": {},
   "outputs": [
    {
     "data": {
      "text/plain": [
       "entity_id                  Int64\n",
       "history_property_name     object\n",
       "history_date              object\n",
       "history_version            Int64\n",
       "history_change_type       object\n",
       "history_change            object\n",
       "Столбец1                 float64\n",
       "Unnamed: 7               float64\n",
       "dtype: object"
      ]
     },
     "execution_count": 187,
     "metadata": {},
     "output_type": "execute_result"
    }
   ],
   "source": [
    "dhis = dhis.dropna(subset=['entity_id'])\n",
    "dhis.set_index('entity_id')\n",
    "dhis.dtypes"
   ]
  },
  {
   "cell_type": "markdown",
   "id": "044c3851-9c75-4b14-b855-cb4a438da99f",
   "metadata": {},
   "source": [
    "##### Удаление заведомо пустых колонок"
   ]
  },
  {
   "cell_type": "code",
   "execution_count": 194,
   "id": "f313cae0-3367-41c5-af4a-c5aa51eab708",
   "metadata": {},
   "outputs": [
    {
     "data": {
      "text/plain": [
       "entity_id                         Int64\n",
       "history_property_name            object\n",
       "history_date             datetime64[ns]\n",
       "history_version                   Int64\n",
       "history_change_type              object\n",
       "history_change                   object\n",
       "dtype: object"
      ]
     },
     "execution_count": 194,
     "metadata": {},
     "output_type": "execute_result"
    }
   ],
   "source": [
    "dhis = dhis.drop(columns=['Столбец1', 'Unnamed: 7'])\n",
    "dhis.dtypes"
   ]
  },
  {
   "cell_type": "markdown",
   "id": "b543a30a-fb7e-41aa-842e-b71a4353cfeb",
   "metadata": {},
   "source": [
    "#### Номер версии?"
   ]
  },
  {
   "cell_type": "code",
   "execution_count": 80,
   "id": "173c752f-0a13-4bb3-878e-461f3f93adf4",
   "metadata": {},
   "outputs": [
    {
     "data": {
      "text/plain": [
       "history_version\n",
       "1      4904\n",
       "2      4612\n",
       "3      3453\n",
       "4      2762\n",
       "5      2856\n",
       "       ... \n",
       "115       1\n",
       "116       1\n",
       "117       1\n",
       "118       1\n",
       "119       1\n",
       "Length: 119, dtype: int64"
      ]
     },
     "execution_count": 80,
     "metadata": {},
     "output_type": "execute_result"
    }
   ],
   "source": [
    "dhis.groupby('history_version').size()"
   ]
  },
  {
   "cell_type": "markdown",
   "id": "a52e1c33-a06f-434f-aaa7-d422e91c3ece",
   "metadata": {},
   "source": [
    "# название_свойства; лог_изменения_свойства; дата_и_время"
   ]
  },
  {
   "cell_type": "code",
   "execution_count": 200,
   "id": "9a25191a-5e52-49a1-890b-905ccb7e97dd",
   "metadata": {},
   "outputs": [
    {
     "data": {
      "text/plain": [
       "history_property_name\n",
       "Story Points                   1\n",
       "Владелец                     490\n",
       "Вложения                     498\n",
       "Время Исправления (ПЛАН)     210\n",
       "Время Исправления (ФАКТ)      60\n",
       "                            ... \n",
       "Тип дефекта                    8\n",
       "Тип работ                     30\n",
       "Учет рабочего времени       1639\n",
       "Фаза внесения дефекта          2\n",
       "Фаза обнаружения дефекта      11\n",
       "Length: 68, dtype: int64"
      ]
     },
     "execution_count": 200,
     "metadata": {},
     "output_type": "execute_result"
    }
   ],
   "source": [
    "dhis.groupby('history_property_name').size()"
   ]
  },
  {
   "cell_type": "markdown",
   "id": "541bac75-b372-42a8-b9a4-a8ac0c03d49e",
   "metadata": {},
   "source": [
    "##### Преобразование с заменой некорректных дат на NaT"
   ]
  },
  {
   "cell_type": "code",
   "execution_count": 189,
   "id": "86a90f64-baa4-4a1c-983d-54046d516675",
   "metadata": {},
   "outputs": [
    {
     "data": {
      "text/plain": [
       "0       2024-09-10 11:17:00\n",
       "1       2024-09-10 11:17:00\n",
       "2       2023-07-13 11:07:00\n",
       "4       2023-07-21 11:06:00\n",
       "5       2023-07-31 15:05:00\n",
       "                ...        \n",
       "64174   2024-10-23 07:00:00\n",
       "64175   2024-10-23 07:00:00\n",
       "64176   2024-10-23 07:00:00\n",
       "64177   2024-10-23 07:00:00\n",
       "64178   2024-10-23 07:00:00\n",
       "Name: history_date, Length: 61120, dtype: datetime64[ns]"
      ]
     },
     "execution_count": 189,
     "metadata": {},
     "output_type": "execute_result"
    }
   ],
   "source": [
    "dhis['history_date'] = pd.to_datetime(dhis['history_date'], format='%m/%d/%y %H:%M', errors='coerce')\n",
    "dhis['history_date']"
   ]
  },
  {
   "cell_type": "markdown",
   "id": "a3d957bb-0a57-4e10-92d8-e2c4e2687337",
   "metadata": {},
   "source": [
    "#### Изменяемое свойство\n",
    "* Иногда это колонка из основного среза данных. Но не всегда.\n",
    "* Нас интересуют многие из этих колонок. Но не все.\n",
    "* Возможно, наборы названий там и здесь расходятся."
   ]
  },
  {
   "cell_type": "markdown",
   "id": "09b3cd70-66cc-4f40-9b26-df750ba28982",
   "metadata": {},
   "source": [
    "#### Тип изменений?\n",
    "* Есть пустые, но немного."
   ]
  },
  {
   "cell_type": "code",
   "execution_count": 219,
   "id": "d252ad63-54e8-4337-80d9-56a2a20cc4be",
   "metadata": {},
   "outputs": [
    {
     "data": {
      "text/plain": [
       "653"
      ]
     },
     "execution_count": 219,
     "metadata": {},
     "output_type": "execute_result"
    }
   ],
   "source": [
    "dhis['history_change_type'].isna().sum()"
   ]
  },
  {
   "cell_type": "code",
   "execution_count": 202,
   "id": "9cd0b750-fc78-44b1-b864-22e57463e35b",
   "metadata": {},
   "outputs": [
    {
     "data": {
      "text/plain": [
       "history_change_type\n",
       "CREATED           2481\n",
       "FIELD_CHANGED    57986\n",
       "dtype: int64"
      ]
     },
     "execution_count": 202,
     "metadata": {},
     "output_type": "execute_result"
    }
   ],
   "source": [
    "dhis.groupby('history_change_type').size()"
   ]
  },
  {
   "cell_type": "markdown",
   "id": "f15610ef-e04b-4b73-8c86-f943b08bfbf4",
   "metadata": {},
   "source": [
    "#### История изменений\n",
    "* Что на что менялось в колонке, указанной в history_property_name.\n",
    "* В некоторых строках колонки не указаны."
   ]
  },
  {
   "cell_type": "code",
   "execution_count": 239,
   "id": "342ec3e2-cfc9-48aa-9bfd-9d3df8a05555",
   "metadata": {},
   "outputs": [
    {
     "data": {
      "text/plain": [
       "      history_property_name         history_change\n",
       "8                    Статус    created -> analysis\n",
       "9                    Статус     analysis -> fixing\n",
       "10                   Статус      fixing -> testing\n",
       "12                   Статус      testing -> closed\n",
       "64                   Статус    created -> analysis\n",
       "...                     ...                    ...\n",
       "64147                Статус  created -> inProgress\n",
       "64152                Статус     inProgress -> done\n",
       "64153                Статус         done -> closed\n",
       "64167                Статус  created -> inProgress\n",
       "64178                Статус   inProgress -> closed\n",
       "\n",
       "[6964 rows x 2 columns]"
      ]
     },
     "execution_count": 239,
     "metadata": {},
     "output_type": "execute_result"
    }
   ],
   "source": [
    "pd.set_option('display.max_colwidth', None)\n",
    "d2 = dhis[['history_property_name', 'history_change']]\n",
    "d2 = d2[d2['history_property_name'] == 'Статус']\n",
    "d2"
   ]
  },
  {
   "cell_type": "code",
   "execution_count": 214,
   "id": "9ba0a2e8-05b0-4863-95e9-41758aa2b550",
   "metadata": {},
   "outputs": [
    {
     "data": {
      "text/plain": [
       "7150"
      ]
     },
     "execution_count": 214,
     "metadata": {},
     "output_type": "execute_result"
    }
   ],
   "source": [
    "dhis['history_change'].isna().sum()"
   ]
  }
 ],
 "metadata": {
  "kernelspec": {
   "display_name": "Python 3 (ipykernel)",
   "language": "python",
   "name": "python3"
  },
  "language_info": {
   "codemirror_mode": {
    "name": "ipython",
    "version": 3
   },
   "file_extension": ".py",
   "mimetype": "text/x-python",
   "name": "python",
   "nbconvert_exporter": "python",
   "pygments_lexer": "ipython3",
   "version": "3.12.7"
  }
 },
 "nbformat": 4,
 "nbformat_minor": 5
}
