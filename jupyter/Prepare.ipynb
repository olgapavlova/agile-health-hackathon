{
 "cells": [
  {
   "cell_type": "markdown",
   "id": "8de7bbd0-7a13-4b7d-8646-8f59ceddd57f",
   "metadata": {},
   "source": [
    "## Подготовка"
   ]
  },
  {
   "cell_type": "code",
   "execution_count": 388,
   "id": "ebff5c13-e2b7-42df-b1d5-0a920a5c04ed",
   "metadata": {},
   "outputs": [],
   "source": [
    "# Предварительная настройка системы\n",
    "import numpy as np\n",
    "import pandas as pd\n",
    "\n",
    "pd.set_option('display.notebook_repr_html', False)\n",
    "pd.set_option('display.max_columns', 8)\n",
    "pd.set_option('display.max_rows', 10)\n",
    "pd.set_option('display.width', 80)\n",
    "\n",
    "import datetime\n",
    "from datetime import datetime, date"
   ]
  },
  {
   "cell_type": "code",
   "execution_count": 389,
   "id": "3f78c527-c276-48cf-896f-b29e58ae1355",
   "metadata": {},
   "outputs": [],
   "source": [
    "# Каталог с CSV-файлами\n",
    "src_csv_dir = '../csv/'\n",
    "src_data_file = 'data_for_spb_hakaton_entities1-Table 1.csv'  # данные хакатона\n",
    "src_history_file  = 'history-Table 1.csv'                         # история изменений\n",
    "src_sprints_file  = 'sprints-Table 1.csv'                         # спринты"
   ]
  },
  {
   "cell_type": "markdown",
   "id": "533a4ba5-dff2-4e21-af05-3fceecd320f6",
   "metadata": {
    "jp-MarkdownHeadingCollapsed": true
   },
   "source": [
    "### Спринты"
   ]
  },
  {
   "cell_type": "code",
   "execution_count": 391,
   "id": "e4362ca5-a4f7-451c-aca6-5d9b5408f2c1",
   "metadata": {},
   "outputs": [],
   "source": [
    "# Загружаем исходник спринтов\n",
    "dS = pd.read_csv(f\"{src_csv_dir}{src_sprints_file}\",\n",
    "                    header=1,\n",
    "                    parse_dates=[\n",
    "                        'sprint_start_date',\n",
    "                        'sprint_end_date'\n",
    "                    ],\n",
    "                    delimiter=\";\"\n",
    "                  )\n",
    "# dS.head(10)"
   ]
  },
  {
   "cell_type": "code",
   "execution_count": 392,
   "id": "5d868865-3f82-40f0-8700-422fbaba303e",
   "metadata": {},
   "outputs": [],
   "source": [
    "# Считываем данные для таблицы связей спринтов и задач\n",
    "dSE_add_list = list([])\n",
    "for _, row in dS[['sprint_name', 'entity_ids']].iterrows():\n",
    "    esl = list(map(int, row['entity_ids'].strip(\"{}\").split(\",\")))\n",
    "    for l in esl:\n",
    "        dSE_add_list.append({\n",
    "            'entity_id': l,\n",
    "            'sprint': row['sprint_name']  # TODO Заменить на ID\n",
    "        })\n",
    "\n",
    "# dSE_add_list[:20]"
   ]
  },
  {
   "cell_type": "code",
   "execution_count": 393,
   "id": "addf53b7-f970-407c-b76e-aaad3d9d2a0e",
   "metadata": {},
   "outputs": [],
   "source": [
    "# Создаём таблицу связей спринтов и задач\n",
    "dSE = pd.DataFrame(dSE_add_list)\n",
    "dSE['entity_id'] = pd.to_numeric(dSE['entity_id'])\n",
    "\n",
    "# dSE.dtypes"
   ]
  },
  {
   "cell_type": "markdown",
   "id": "6d626843-8fce-4579-9f74-030ea26f29a0",
   "metadata": {},
   "source": [
    "### История"
   ]
  },
  {
   "cell_type": "code",
   "execution_count": 395,
   "id": "5704c3e0-97de-4cf2-95ac-b7f23ed1d57f",
   "metadata": {},
   "outputs": [],
   "source": [
    "# Загружаем историю\n",
    "dH = pd.read_csv(f\"{src_csv_dir}{src_history_file}\",\n",
    "                     header=1,\n",
    "                     delimiter=\";\"\n",
    "                )\n",
    "\n",
    "# dH"
   ]
  },
  {
   "cell_type": "code",
   "execution_count": 396,
   "id": "c4789d41-ee17-456f-b852-69b521649a89",
   "metadata": {},
   "outputs": [
    {
     "data": {
      "text/plain": [
       "       entity_id   history_property_name   history_date  history_version  \\\n",
       "0        94297.0  Время решения 3ЛП ФАКТ  9/10/24 11:17              1.0   \n",
       "1        94297.0    Время решения (ФАКТ)  9/10/24 11:17              1.0   \n",
       "2        94297.0             Исполнитель  7/13/23 11:07              1.0   \n",
       "3            NaN                     NaN            NaN              NaN   \n",
       "4        94297.0             Исполнитель  7/21/23 11:06              3.0   \n",
       "...          ...                     ...            ...              ...   \n",
       "64174  5179881.0                  Спринт  10/23/24 7:00             11.0   \n",
       "64175  5179881.0                  Спринт  10/23/24 7:00             11.0   \n",
       "64176  5179881.0                  Спринт  10/23/24 7:00             11.0   \n",
       "64177  5179881.0               Резолюция  10/23/24 7:00             12.0   \n",
       "64178  5179881.0                  Статус  10/23/24 7:00             12.0   \n",
       "\n",
       "      history_change_type                                     history_change  \n",
       "0           FIELD_CHANGED              <empty> -> 2024-09-10 11:17:06.680223  \n",
       "1           FIELD_CHANGED              <empty> -> 2024-09-10 11:17:06.680223  \n",
       "2           FIELD_CHANGED  user409017mail@mail.com -> user408045mail@mail...  \n",
       "3                     NaN                                                NaN  \n",
       "4           FIELD_CHANGED       user4080458@mail.com -> user4091341@mail.com  \n",
       "...                   ...                                                ...  \n",
       "64174       FIELD_CHANGED  Спринт 2024.4.1.NPP Shared Sprint -> Спринт 20...  \n",
       "64175       FIELD_CHANGED  Спринт 2024.4.1.NPP Shared Sprint -> Спринт 20...  \n",
       "64176       FIELD_CHANGED  Спринт 2024.4.1.NPP Shared Sprint -> Спринт 20...  \n",
       "64177       FIELD_CHANGED                                  <empty> -> Готово  \n",
       "64178       FIELD_CHANGED                               inProgress -> closed  \n",
       "\n",
       "[64179 rows x 6 columns]"
      ]
     },
     "execution_count": 396,
     "metadata": {},
     "output_type": "execute_result"
    }
   ],
   "source": [
    "# Удаляем лишние колонки в истории\n",
    "dH.drop(columns=['Столбец1', 'Unnamed: 7'], inplace=True)\n",
    "# dH.dtypes\n",
    "dH"
   ]
  },
  {
   "cell_type": "code",
   "execution_count": 397,
   "id": "75d6141a-f2e7-4240-bf20-387f4635bf33",
   "metadata": {},
   "outputs": [],
   "source": [
    "# Нормализуем типы данных в истории\n",
    "dH['entity_id'] = dH['entity_id'].astype('Int64')\n",
    "dH['history_version'] = dH['history_version'].astype('Int64')\n",
    "dH['history_date'] = pd.to_datetime(dH['history_date'], format='%m/%d/%y %H:%M', errors='coerce')\n",
    "# dH.dtypes\n",
    "# dH"
   ]
  },
  {
   "cell_type": "code",
   "execution_count": 398,
   "id": "27e93e6f-8e79-4e04-b3ad-28b10ff4fdc2",
   "metadata": {},
   "outputs": [],
   "source": [
    "# Готовим данные для таблицы истории изменений статусов\n",
    "dHS_pre = dH.loc[dH['history_property_name'] == 'Статус']\n",
    "dHS_add_list = list([])\n",
    "for index, row in dHS_pre.iterrows():\n",
    "    (before, after) = row['history_change'].split(\" -> \")\n",
    "    dHS_add_list.append({\n",
    "        'entity_id': row['entity_id'],\n",
    "        'history_date': row['history_date'],\n",
    "        'history_version': row['history_version'],\n",
    "        'before': before,\n",
    "        'after': after\n",
    "    })\n",
    "\n",
    "# dHS_add_list[:20]"
   ]
  },
  {
   "cell_type": "code",
   "execution_count": 399,
   "id": "132c7687-ba6b-4a9c-baa4-60b6106d5bc8",
   "metadata": {},
   "outputs": [],
   "source": [
    "# Заполняем таблицу истории изменений статусов\n",
    "dHS = pd.DataFrame(dHS_add_list)\n",
    "dHS['entity_id'] = dHS['entity_id'].astype('Int64')\n",
    "dHS['history_version'] = dHS['history_version'].astype('Int64')\n",
    "dHS['history_date'] = pd.to_datetime(dHS['history_date'])\n",
    "# dHS"
   ]
  },
  {
   "cell_type": "markdown",
   "id": "e0d4755e-dd4a-4746-986a-faa212cfb884",
   "metadata": {},
   "source": [
    "### Данные"
   ]
  },
  {
   "cell_type": "code",
   "execution_count": 401,
   "id": "9a22101d-603e-4578-af22-b46371aebc1e",
   "metadata": {},
   "outputs": [],
   "source": [
    "dD = pd.read_csv(f\"{src_csv_dir}{src_data_file}\",\n",
    "                    header=1,               # в первой строчке мусор, во второй — названия колонок\n",
    "                    index_col='entity_id',  # ключ в первой колонке\n",
    "                    dtype = {\n",
    "                                'parent_ticket_id': 'Int64',\n",
    "                                'estimation': 'Int64',\n",
    "                                'spent': 'Int64'\n",
    "                            },              # есть незаполненные parent_ticket_id, поэтому Int64, не int\n",
    "                    parse_dates = [\n",
    "                                    'create_date',\n",
    "                                    'update_date'\n",
    "                                  ],        # в этих колонках легко распознаваемые даты (и всегда есть)\n",
    "                    delimiter=';')          # нетипичный csv\n",
    "\n",
    "# dD.dtypes"
   ]
  },
  {
   "cell_type": "code",
   "execution_count": 402,
   "id": "36385d61-530e-4567-b4fd-ba74725426fe",
   "metadata": {},
   "outputs": [],
   "source": [
    "# Справочник названий команд\n",
    "# TODO Лучше сделать через dataframe\n",
    "area_ref = {\n",
    "    \"Система. Движок\": \"Движок\",\n",
    "    \"Система.Вики\": \"Wiki\",\n",
    "    \"Система.Ошибки\": \"Ошибки\",\n",
    "    \"Система.Таск-трекер\": \"Task tracker\",\n",
    "    \"Система.ХранениеАртефактов\": \"Хранение\",\n",
    "    \"Управление релизами изменениями\": \"Релизы\",\n",
    "    }\n",
    "dD['area'] = dD['area'].replace(area_ref)\n",
    "# dD.groupby('area').size()"
   ]
  },
  {
   "cell_type": "code",
   "execution_count": 403,
   "id": "1a6d6501-e510-4f52-ad17-689182bac1ef",
   "metadata": {},
   "outputs": [
    {
     "data": {
      "text/plain": [
       "entity_id\n",
       "94297                      closed\n",
       "102481                     closed\n",
       "1805925                   testing\n",
       "1934905                    closed\n",
       "1943849    rejectedByThePerformer\n",
       "                    ...          \n",
       "5179477                    closed\n",
       "5179714                    closed\n",
       "5179793                    closed\n",
       "5179847                    closed\n",
       "5179881                    closed\n",
       "Name: status, Length: 2485, dtype: object"
      ]
     },
     "execution_count": 403,
     "metadata": {},
     "output_type": "execute_result"
    }
   ],
   "source": [
    "# Справочник статусов задач\n",
    "status_ref = {\n",
    "'В ожидании': 'waiting',\n",
    "'Готово к разработке': 'readyForDevelopment',\n",
    "'СТ Завершено': 'stCompleted',\n",
    "'Локализация': 'localization',\n",
    "'Подтверждение': 'verification',\n",
    "'СТ': 'st',\n",
    "'Разработка': 'development',\n",
    "'Отложен': 'hold',\n",
    "'Исправление': 'fixing',\n",
    "'Анализ': 'analysis',\n",
    "'Подтверждение исправления': 'verification',\n",
    "'Тестирование': 'testing',\n",
    "'Отклонен исполнителем': 'rejectedByThePerformer',\n",
    "'В работе': 'inProgress',\n",
    "'Создано': 'created',\n",
    "'Выполнено': 'done',\n",
    "'Закрыто': 'closed'\n",
    "}\n",
    "dD['status'] = dD['status'].replace(status_ref)\n",
    "\n",
    "dD['status']"
   ]
  },
  {
   "cell_type": "code",
   "execution_count": 404,
   "id": "6cb0278a-22ab-4d1b-b237-2309f6c46634",
   "metadata": {},
   "outputs": [],
   "source": [
    "# Удалить лишние колонки\n",
    "dD.drop(columns=['created_by', 'updated_by', 'assignee', 'owner',\n",
    "                 'parent_ticket_id', 'state', 'due_date', 'rank',\n",
    "                 'workgroup', 'resolution'], inplace=True)\n",
    "# dD.dtypes"
   ]
  },
  {
   "cell_type": "code",
   "execution_count": null,
   "id": "7d55c1dd-96d9-4fee-98a5-242d826c095b",
   "metadata": {},
   "outputs": [],
   "source": []
  },
  {
   "cell_type": "code",
   "execution_count": null,
   "id": "5e26914d-a801-4794-a968-04deffd10f23",
   "metadata": {},
   "outputs": [],
   "source": []
  },
  {
   "cell_type": "code",
   "execution_count": 405,
   "id": "c819618d-b0c3-4170-8373-5a62f4b4aa84",
   "metadata": {},
   "outputs": [],
   "source": [
    "# Почистить названия задач\n",
    "dD['name'] = dD['name'].apply(lambda x: x.strip(\" \\t\"))\n",
    "# dD['name']\n",
    "# TODO Что-то не так с задачей 5179847"
   ]
  },
  {
   "cell_type": "markdown",
   "id": "6eccd262-36c1-4d51-884b-21db261d9f23",
   "metadata": {},
   "source": [
    "## Сохранение"
   ]
  },
  {
   "cell_type": "code",
   "execution_count": 407,
   "id": "ccbda847-366f-4e55-b8d5-5956eed0151e",
   "metadata": {},
   "outputs": [],
   "source": [
    "# Настройки сохранения\n",
    "dir_pickle = '../pickle/'\n",
    "data_pickle = 'data.pkl'\n",
    "history_pickle = 'history.pkl'\n",
    "history_statuses_piclke = 'history_statuses.pkl'\n",
    "sprints_pickle = 'sprints.pkl'\n",
    "sprints_tasks_pickle = 'sprints_tasks.pkl'"
   ]
  },
  {
   "cell_type": "code",
   "execution_count": 409,
   "id": "9d27b9e7-9bcd-4737-bc99-941656c29d19",
   "metadata": {},
   "outputs": [],
   "source": [
    "# Сохраняем\n",
    "dD.to_pickle(f\"{dir_pickle}{data_pickle}\")\n",
    "dS.to_pickle(f\"{dir_pickle}{sprints_pickle}\")\n",
    "dSE.to_pickle(f\"{dir_pickle}{sprints_tasks_pickle}\")\n",
    "dH.to_pickle(f\"{dir_pickle}{history_pickle}\")\n",
    "dHS.to_pickle(f\"{dir_pickle}{history_statuses_piclke}\")\n",
    "# TODO Неаккуратно настроено, переписать"
   ]
  }
 ],
 "metadata": {
  "kernelspec": {
   "display_name": "Python 3 (ipykernel)",
   "language": "python",
   "name": "python3"
  },
  "language_info": {
   "codemirror_mode": {
    "name": "ipython",
    "version": 3
   },
   "file_extension": ".py",
   "mimetype": "text/x-python",
   "name": "python",
   "nbconvert_exporter": "python",
   "pygments_lexer": "ipython3",
   "version": "3.12.7"
  }
 },
 "nbformat": 4,
 "nbformat_minor": 5
}
