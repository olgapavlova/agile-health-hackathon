{
 "cells": [
  {
   "cell_type": "markdown",
   "id": "8de7bbd0-7a13-4b7d-8646-8f59ceddd57f",
   "metadata": {},
   "source": [
    "## Подготовка"
   ]
  },
  {
   "cell_type": "code",
   "execution_count": 8,
   "id": "ebff5c13-e2b7-42df-b1d5-0a920a5c04ed",
   "metadata": {},
   "outputs": [],
   "source": [
    "# Предварительная настройка системы\n",
    "import numpy as np\n",
    "import pandas as pd\n",
    "\n",
    "pd.set_option('display.notebook_repr_html', False)\n",
    "pd.set_option('display.max_columns', 8)\n",
    "pd.set_option('display.max_rows', 10)\n",
    "pd.set_option('display.width', 80)\n",
    "\n",
    "import datetime\n",
    "from datetime import datetime, date"
   ]
  },
  {
   "cell_type": "markdown",
   "id": "6eccd262-36c1-4d51-884b-21db261d9f23",
   "metadata": {},
   "source": [
    "## Загрузка"
   ]
  },
  {
   "cell_type": "code",
   "execution_count": 10,
   "id": "ccbda847-366f-4e55-b8d5-5956eed0151e",
   "metadata": {},
   "outputs": [],
   "source": [
    "# Настройки загрузки\n",
    "dir_pickle = '../pickle/'\n",
    "data_pickle = 'data.pkl'\n",
    "history_pickle = 'history.pkl'\n",
    "history_statuses_piclke = 'history_statuses.pkl'\n",
    "sprints_pickle = 'sprints.pkl'\n",
    "sprints_tasks_pickle = 'sprints_tasks.pkl'"
   ]
  },
  {
   "cell_type": "code",
   "execution_count": 11,
   "id": "9d27b9e7-9bcd-4737-bc99-941656c29d19",
   "metadata": {},
   "outputs": [],
   "source": [
    "# Загружаем\n",
    "dD = pd.read_pickle(f\"{dir_pickle}{data_pickle}\")\n",
    "dS = pd.read_pickle(f\"{dir_pickle}{sprints_pickle}\")\n",
    "dSE = pd.read_pickle(f\"{dir_pickle}{sprints_tasks_pickle}\")\n",
    "dH = pd.read_pickle(f\"{dir_pickle}{history_pickle}\")\n",
    "dHS = pd.read_pickle(f\"{dir_pickle}{history_statuses_piclke}\")\n",
    "# TODO Неаккуратно настроено, переписать"
   ]
  },
  {
   "cell_type": "markdown",
   "id": "a596b4d1-16dc-42a2-93a7-ef586e1e440c",
   "metadata": {},
   "source": [
    "## Срез по спринту"
   ]
  },
  {
   "cell_type": "code",
   "execution_count": 13,
   "id": "023eceb9-d6d5-4844-bfe0-596bdc1b2db3",
   "metadata": {},
   "outputs": [],
   "source": [
    "# Выбираем спринт\n",
    "current_sprint = dS.iloc[4]"
   ]
  },
  {
   "cell_type": "code",
   "execution_count": 14,
   "id": "8b4ae232-14a1-4bd1-bb47-4510db94430a",
   "metadata": {},
   "outputs": [],
   "source": [
    "# Все изменения статусов в выбранном спринте и раньше\n",
    "status_changes_on_sprint = dHS.loc[dHS['history_date'] < current_sprint['sprint_end_date']]"
   ]
  },
  {
   "cell_type": "code",
   "execution_count": 15,
   "id": "ef95e875-56cf-4866-aa98-33a6c56977d2",
   "metadata": {},
   "outputs": [],
   "source": [
    "# Группируем по id задачи\n",
    "changes_grouped_by_task = status_changes_on_sprint.groupby('entity_id')\n",
    "# changes_grouped_by_task.size()"
   ]
  },
  {
   "cell_type": "code",
   "execution_count": 16,
   "id": "e17735c3-832c-4be3-8472-84c9e91641f9",
   "metadata": {},
   "outputs": [],
   "source": [
    "# Находим последние записи\n",
    "last_changes = changes_grouped_by_task.apply(lambda x: x.nlargest(1, 'history_version'), include_groups=False)\n",
    "# last_changes"
   ]
  },
  {
   "cell_type": "code",
   "execution_count": 17,
   "id": "d66c0959-377d-4948-82dc-abbecfb699fb",
   "metadata": {},
   "outputs": [],
   "source": [
    "# Выявляем актуальные для спринта\n",
    "actual_for_sprint = last_changes.loc[~((last_changes['after'] == 'closed') & (last_changes['history_date'] < current_sprint['sprint_start_date']))]\n",
    "# actual_for_sprint"
   ]
  },
  {
   "cell_type": "code",
   "execution_count": null,
   "id": "f8ddb134-9b2b-4ac6-8a4b-5124f80041ce",
   "metadata": {},
   "outputs": [],
   "source": []
  },
  {
   "cell_type": "markdown",
   "id": "31eeae1f-4492-4bf4-beb0-b84dfd67cbbc",
   "metadata": {},
   "source": [
    "## К выполнению"
   ]
  },
  {
   "cell_type": "code",
   "execution_count": 61,
   "id": "3c5fd2d0-8b71-4dd8-9caf-790e346b02fb",
   "metadata": {},
   "outputs": [],
   "source": [
    "# Список задач\n",
    "todo_list = list(map(lambda x: x[0], list(created_in_sprint.index)))"
   ]
  },
  {
   "cell_type": "code",
   "execution_count": 69,
   "id": "71426e68-9578-4212-a4d9-e82081a831f6",
   "metadata": {},
   "outputs": [],
   "source": [
    "# Статус категории «Создано»\n",
    "created_in_sprint = actual_for_sprint.loc[actual_for_sprint['after'] == 'created']\n",
    "# created_in_sprint"
   ]
  },
  {
   "cell_type": "code",
   "execution_count": 73,
   "id": "7d482978-d1b5-4b7f-853d-f34212424401",
   "metadata": {},
   "outputs": [],
   "source": [
    "# Срез для вычисления метрики\n",
    "todo_tasks = dD.loc[dD.index.isin(todo_list)]"
   ]
  },
  {
   "cell_type": "code",
   "execution_count": 142,
   "id": "2c7c29cc-6ee6-46c4-80e9-21e7c2d1d26c",
   "metadata": {},
   "outputs": [
    {
     "data": {
      "text/plain": [
       "68.0"
      ]
     },
     "execution_count": 142,
     "metadata": {},
     "output_type": "execute_result"
    }
   ],
   "source": [
    "metrics_todo = round(todo_tasks['estimation'].sum() / 3600, 1)\n",
    "metrics_todo"
   ]
  },
  {
   "cell_type": "markdown",
   "id": "d4ea2d84-5f28-46aa-ba30-11adeae996d3",
   "metadata": {},
   "source": [
    "## В работе"
   ]
  },
  {
   "cell_type": "code",
   "execution_count": 116,
   "id": "3a80e7ae-2986-41c9-b605-a4c61891da5d",
   "metadata": {},
   "outputs": [],
   "source": [
    "# Срез для вычисления метрики\n",
    "inwork_in_sprint = actual_for_sprint.loc[(actual_for_sprint['after'] != 'done') & (actual_for_sprint['after'] != 'rejectedByThePerformer')]\n",
    "# inwork_in_sprint['after'].unique()"
   ]
  },
  {
   "cell_type": "code",
   "execution_count": 122,
   "id": "afecbb40-0012-4722-81cf-236409badfd4",
   "metadata": {},
   "outputs": [],
   "source": [
    "# Список задач\n",
    "inwork_list = list(map(lambda x: x[0], list(inwork_in_sprint.index)))\n",
    "# inwork_list"
   ]
  },
  {
   "cell_type": "code",
   "execution_count": 146,
   "id": "8516a21a-9641-4a1e-9fe4-07eff1ff1bc7",
   "metadata": {},
   "outputs": [],
   "source": [
    "# Задачи в работе\n",
    "inwork_tasks = dD.loc[dD.index.isin(inwork_list)]\n",
    "# inwork_tasks"
   ]
  },
  {
   "cell_type": "code",
   "execution_count": 150,
   "id": "b1b99f8b-fa07-41e8-95bf-a7adfb7b0538",
   "metadata": {},
   "outputs": [
    {
     "data": {
      "text/plain": [
       "6578.1"
      ]
     },
     "execution_count": 150,
     "metadata": {},
     "output_type": "execute_result"
    }
   ],
   "source": [
    "metrics_inwork = round(inwork_tasks['estimation'].sum() / 3600, 1)\n",
    "metrics_inwork"
   ]
  }
 ],
 "metadata": {
  "kernelspec": {
   "display_name": "Python 3 (ipykernel)",
   "language": "python",
   "name": "python3"
  },
  "language_info": {
   "codemirror_mode": {
    "name": "ipython",
    "version": 3
   },
   "file_extension": ".py",
   "mimetype": "text/x-python",
   "name": "python",
   "nbconvert_exporter": "python",
   "pygments_lexer": "ipython3",
   "version": "3.12.7"
  }
 },
 "nbformat": 4,
 "nbformat_minor": 5
}
