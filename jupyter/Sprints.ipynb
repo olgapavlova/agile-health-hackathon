{
 "cells": [
  {
   "cell_type": "code",
   "execution_count": 13,
   "id": "ebff5c13-e2b7-42df-b1d5-0a920a5c04ed",
   "metadata": {},
   "outputs": [],
   "source": [
    "# Предварительная настройка системы\n",
    "import numpy as np\n",
    "import pandas as pd\n",
    "\n",
    "pd.set_option('display.notebook_repr_html', False)\n",
    "pd.set_option('display.max_columns', 8)\n",
    "pd.set_option('display.max_rows', 10)\n",
    "pd.set_option('display.width', 80)\n",
    "\n",
    "import datetime\n",
    "from datetime import datetime, date"
   ]
  },
  {
   "cell_type": "code",
   "execution_count": 17,
   "id": "3f78c527-c276-48cf-896f-b29e58ae1355",
   "metadata": {},
   "outputs": [],
   "source": [
    "tmp_csv_file = '../csv/'\n",
    "tmp_sprints_file = 'sprints-Table 1.csv'"
   ]
  },
  {
   "cell_type": "code",
   "execution_count": 19,
   "id": "e4362ca5-a4f7-451c-aca6-5d9b5408f2c1",
   "metadata": {},
   "outputs": [
    {
     "data": {
      "text/plain": [
       "                         sprint_name sprint_status   sprint_start_date  \\\n",
       "0  Спринт 2024.3.1.NPP Shared Sprint        Закрыт 2024-07-03 19:00:00   \n",
       "1  Спринт 2024.3.2.NPP Shared Sprint        Закрыт 2024-07-17 19:00:00   \n",
       "2  Спринт 2024.3.3.NPP Shared Sprint        Закрыт 2024-07-31 19:00:00   \n",
       "3  Спринт 2024.3.4.NPP Shared Sprint        Закрыт 2024-08-14 19:00:00   \n",
       "4  Спринт 2024.3.5.NPP Shared Sprint        Закрыт 2024-08-28 19:00:00   \n",
       "5  Спринт 2024.3.6.NPP Shared Sprint        Закрыт 2024-09-11 19:00:00   \n",
       "\n",
       "      sprint_end_date                                         entity_ids  \n",
       "0 2024-07-16 19:00:00  {4449728,4450628,4451563,4451929,4452033,44522...  \n",
       "1 2024-07-30 19:00:00  {4506286,4429413,4327418,4370041,4525683,43267...  \n",
       "2 2024-08-13 19:00:00  {4646403,4176602,4555571,4497495,4340795,46178...  \n",
       "3 2024-08-27 19:00:00  {4805777,4596004,4594168,4523718,4579094,46853...  \n",
       "4 2024-09-10 19:00:00  {4861060,4856927,4868451,4092647,4932565,49838...  \n",
       "5 2024-09-24 19:00:00  {5034080,5052223,4620977,5137167,4072346,44107...  "
      ]
     },
     "execution_count": 19,
     "metadata": {},
     "output_type": "execute_result"
    }
   ],
   "source": [
    "# Загрузка файла\n",
    "sdfS = pd.read_csv(f\"{tmp_csv_file}{tmp_sprints_file}\",\n",
    "                    header=1,\n",
    "                    parse_dates=[\n",
    "                        'sprint_start_date',\n",
    "                        'sprint_end_date'\n",
    "                    ],\n",
    "                    delimiter=\";\"\n",
    "                  )\n",
    "sdfS.head(10)"
   ]
  },
  {
   "cell_type": "code",
   "execution_count": null,
   "id": "5704c3e0-97de-4cf2-95ac-b7f23ed1d57f",
   "metadata": {},
   "outputs": [],
   "source": []
  }
 ],
 "metadata": {
  "kernelspec": {
   "display_name": "Python 3 (ipykernel)",
   "language": "python",
   "name": "python3"
  },
  "language_info": {
   "codemirror_mode": {
    "name": "ipython",
    "version": 3
   },
   "file_extension": ".py",
   "mimetype": "text/x-python",
   "name": "python",
   "nbconvert_exporter": "python",
   "pygments_lexer": "ipython3",
   "version": "3.12.7"
  }
 },
 "nbformat": 4,
 "nbformat_minor": 5
}
