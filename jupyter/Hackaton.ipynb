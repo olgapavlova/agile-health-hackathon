{
 "cells": [
  {
   "cell_type": "code",
   "execution_count": 183,
   "id": "d60db715-09ff-46fd-bd67-f24f0d918e7a",
   "metadata": {},
   "outputs": [],
   "source": [
    "import numpy as np\n",
    "import pandas as pd\n",
    "\n",
    "pd.set_option('display.notebook_repr_html', False)\n",
    "pd.set_option('display.max_columns', 8)\n",
    "pd.set_option('display.max_rows', 10)\n",
    "pd.set_option('display.width', 80)\n",
    "\n",
    "import datetime\n",
    "from datetime import datetime, date"
   ]
  },
  {
   "cell_type": "markdown",
   "id": "1be2a896-45d5-48d9-83a3-34b1f083cb9c",
   "metadata": {},
   "source": [
    "### Сырые данные по хакатону"
   ]
  },
  {
   "cell_type": "code",
   "execution_count": 185,
   "id": "13e21756-56bc-4a63-ad8c-80c010dd8cb7",
   "metadata": {},
   "outputs": [],
   "source": [
    "# Читаем файл сырых данных\n",
    "hackaton_file = '/Users/op/dev/olgapavlova/agile-health-hackathon/csv/data_for_spb_hakaton_entities1-Table 1.csv'\n",
    "dhack = pd.read_csv(hackaton_file,\n",
    "                    header=1,               # в первой строчке мусор, во второй — названия колонок\n",
    "                    index_col='entity_id',  # ключ в первой колонке\n",
    "                    dtype = {\n",
    "                                'parent_ticket_id': 'Int64',\n",
    "                                'estimation': 'Int64',\n",
    "                                'spent': 'Int64'\n",
    "                            },              # есть незаполненные parent_ticket_id, поэтому Int64, не int\n",
    "                    parse_dates = [\n",
    "                                    'create_date',\n",
    "                                    'update_date'\n",
    "                                  ],        # в этих колонках легко распознаваемые даты (и всегда есть)\n",
    "                    delimiter=';')          # нетипичный csv"
   ]
  },
  {
   "cell_type": "markdown",
   "id": "2e38de78-41d6-45c0-bd24-e86457a98f86",
   "metadata": {},
   "source": [
    "#### Все колонки сырых данных по хакатону"
   ]
  },
  {
   "cell_type": "code",
   "execution_count": 187,
   "id": "68d63ab4-4689-44c1-a67c-7e567be16361",
   "metadata": {},
   "outputs": [
    {
     "data": {
      "text/plain": [
       "area          object\n",
       "type          object\n",
       "status        object\n",
       "state         object\n",
       "priority      object\n",
       "               ...  \n",
       "rank          object\n",
       "estimation     Int64\n",
       "spent          Int64\n",
       "workgroup     object\n",
       "resolution    object\n",
       "Length: 20, dtype: object"
      ]
     },
     "execution_count": 187,
     "metadata": {},
     "output_type": "execute_result"
    }
   ],
   "source": [
    "dhack.dtypes"
   ]
  },
  {
   "cell_type": "markdown",
   "id": "68cf53d9-76d4-485d-b276-84bb284bc191",
   "metadata": {},
   "source": [
    "#### Команда\n",
    "* [ ] По командам нужно уметь фильтровать.\n",
    "* [ ] Значения явно взяты из словаря. В нашей базе данных стоит воспроизвести этот же словарь отдельной таблицей. Заодно получим ID значения, а не само это значение (что удобней)."
   ]
  },
  {
   "cell_type": "code",
   "execution_count": 189,
   "id": "95609a2e-82d9-4033-8a5d-1ee7668c3ea4",
   "metadata": {},
   "outputs": [
    {
     "data": {
      "text/plain": [
       "area\n",
       "Система. Движок                    264\n",
       "Система.Вики                       560\n",
       "Система.Ошибки                      51\n",
       "Система.Таск-трекер                761\n",
       "Система.ХранениеАртефактов         650\n",
       "Управление релизами изменениями    199\n",
       "dtype: int64"
      ]
     },
     "execution_count": 189,
     "metadata": {},
     "output_type": "execute_result"
    }
   ],
   "source": [
    "# Сколько каких команд в системе\n",
    "dhack.groupby('area').size()"
   ]
  },
  {
   "cell_type": "markdown",
   "id": "ee8062d1-7fe0-4b20-8fc6-91b993b3b551",
   "metadata": {},
   "source": [
    "* [ ] В интерфейсе нет смысла использовать значения сырья — страшные. Лучше почистить.\n",
    "* [ ] Идеально было бы сделать конфигуратор этого переименования прямо в интерфейсе."
   ]
  },
  {
   "cell_type": "code",
   "execution_count": 191,
   "id": "3de4b3e6-4d49-4a81-bbda-c53d788ac0d1",
   "metadata": {},
   "outputs": [
    {
     "data": {
      "text/plain": [
       "area\n",
       "Task tracker    761\n",
       "Wiki            560\n",
       "Движок          264\n",
       "Ошибки           51\n",
       "Релизы          199\n",
       "Хранение        650\n",
       "dtype: int64"
      ]
     },
     "execution_count": 191,
     "metadata": {},
     "output_type": "execute_result"
    }
   ],
   "source": [
    "replace_area = {\n",
    "    \"Система. Движок\": \"Движок\",\n",
    "    \"Система.Вики\": \"Wiki\",\n",
    "    \"Система.Ошибки\": \"Ошибки\",\n",
    "    \"Система.Таск-трекер\": \"Task tracker\",\n",
    "    \"Система.ХранениеАртефактов\": \"Хранение\",\n",
    "    \"Управление релизами изменениями\": \"Релизы\",\n",
    "    }\n",
    "dhack['area'] = dhack['area'].replace(replace_area)\n",
    "dhack.groupby('area').size()"
   ]
  },
  {
   "cell_type": "markdown",
   "id": "33ab5ecb-5223-4049-88a7-8c855e6492a4",
   "metadata": {},
   "source": [
    "#### Тип задачи"
   ]
  },
  {
   "cell_type": "markdown",
   "id": "159f77b0-60e9-42f5-a5ec-e570059e840c",
   "metadata": {},
   "source": [
    "Тоже словарь. Видимо, схема простая: История → Задача → Подзадача."
   ]
  },
  {
   "cell_type": "code",
   "execution_count": 194,
   "id": "0793d655-0b45-46fd-ada2-bc2242b1b3bf",
   "metadata": {},
   "outputs": [
    {
     "data": {
      "text/plain": [
       "type\n",
       "Дефект        654\n",
       "Задача       1021\n",
       "История        55\n",
       "Подзадача     755\n",
       "dtype: int64"
      ]
     },
     "execution_count": 194,
     "metadata": {},
     "output_type": "execute_result"
    }
   ],
   "source": [
    "dhack.groupby('type').size()"
   ]
  },
  {
   "cell_type": "markdown",
   "id": "f4369ea4-003d-41a4-a38f-b0880096b131",
   "metadata": {},
   "source": [
    "#### Статусы задач\n",
    "* Затейливо. Очень. Схема: https://github.com/olgapavlova/agile-health-hackathon/blob/main/WORKFLOW.md\n",
    "* Задачи делятся на те, что замораживают ресурс («в производстве») и те, что уже приносят пользу («выпущенные»).\n",
    "* Очевидно есть две группы производственных задач: «Работа идёт» и «Работа стоит». Их надо показывать по-разному.\n",
    "* Некоторые статусы, возможно, стоит объединять. Это тоже гибкая настройка."
   ]
  },
  {
   "cell_type": "code",
   "execution_count": 196,
   "id": "2781ab7c-e9de-4a15-a7b1-98851f30b78a",
   "metadata": {},
   "outputs": [
    {
     "data": {
      "text/plain": [
       "status\n",
       "В ожидании                      1\n",
       "Готово к разработке             1\n",
       "СТ Завершено                    2\n",
       "Локализация                     3\n",
       "Подтверждение                   3\n",
       "СТ                              4\n",
       "Разработка                      5\n",
       "Отложен                         7\n",
       "Исправление                    11\n",
       "Анализ                         12\n",
       "Подтверждение исправления      15\n",
       "Тестирование                   19\n",
       "Отклонен исполнителем          20\n",
       "В работе                       33\n",
       "Создано                        90\n",
       "Выполнено                     157\n",
       "Закрыто                      2102\n",
       "dtype: int64"
      ]
     },
     "execution_count": 196,
     "metadata": {},
     "output_type": "execute_result"
    }
   ],
   "source": [
    "all_statuses = dhack.groupby('status').size().sort_values()\n",
    "pd.set_option('display.max_rows', len(all_statuses))\n",
    "all_statuses\n",
    "# pd.reset_option('display.max_rows')"
   ]
  },
  {
   "cell_type": "markdown",
   "id": "9ccc1450-e475-4375-8127-d42248f7eca2",
   "metadata": {},
   "source": [
    "#### Состояние\n",
    "Везде одно и то же значение. Игнорируем столбец."
   ]
  },
  {
   "cell_type": "code",
   "execution_count": 198,
   "id": "77a7d448-712a-496b-b877-9c15e177cf4c",
   "metadata": {},
   "outputs": [
    {
     "data": {
      "text/plain": [
       "array(['Normal'], dtype=object)"
      ]
     },
     "execution_count": 198,
     "metadata": {},
     "output_type": "execute_result"
    }
   ],
   "source": [
    "dhack['state'].unique()"
   ]
  },
  {
   "cell_type": "markdown",
   "id": "07c29fe1-55b0-42e7-9394-456c1eefcf24",
   "metadata": {},
   "source": [
    "#### Приоритет\n",
    "* [ ] Очевидно, нужен упорядоченный словарь.\n",
    "* [ ] Пригодится колонка «Вес» для разных хитрых подсчётов."
   ]
  },
  {
   "cell_type": "code",
   "execution_count": 200,
   "id": "34903ca4-82b3-45c3-aded-dd497278f161",
   "metadata": {},
   "outputs": [
    {
     "data": {
      "text/plain": [
       "array(['Средний', 'Критический', 'Высокий', 'Низкий'], dtype=object)"
      ]
     },
     "execution_count": 200,
     "metadata": {},
     "output_type": "execute_result"
    }
   ],
   "source": [
    "dhack['priority'].unique()"
   ]
  },
  {
   "cell_type": "markdown",
   "id": "eed07f4c-a47b-423a-a081-24e29c89df6b",
   "metadata": {},
   "source": [
    "#### Номер тикета\n",
    "* В буквах тикета (первые четыре знака, до дефиса) закодирована команда (area). Пригодится в интерфейсе."
   ]
  },
  {
   "cell_type": "code",
   "execution_count": 202,
   "id": "30ceea22-0dd3-41b8-ba84-78d5eec2f8aa",
   "metadata": {},
   "outputs": [
    {
     "data": {
      "text/plain": [
       "          ticket_number          area\n",
       "entity_id                            \n",
       "94297         PPTS-1965  Task tracker\n",
       "102481        PPIN-1175        Ошибки\n",
       "1805925       PPTS-3189  Task tracker\n",
       "1934905       PPTS-3383  Task tracker\n",
       "1943849       PPIN-1609        Ошибки\n",
       "...                 ...           ...\n",
       "2824925       PPIN-2444        Ошибки\n",
       "2840563       PPTS-4895  Task tracker\n",
       "2867204       PPFW-1314        Движок\n",
       "2887761       PPAR-4466      Хранение\n",
       "2938657       PPTS-5013  Task tracker\n",
       "\n",
       "[20 rows x 2 columns]"
      ]
     },
     "execution_count": 202,
     "metadata": {},
     "output_type": "execute_result"
    }
   ],
   "source": [
    "ticket_research = dhack[['ticket_number', 'area']]\n",
    "ticket_research.head(20)"
   ]
  },
  {
   "cell_type": "markdown",
   "id": "3d9ca228-5e0d-4fd8-a076-b4925c9c6dfc",
   "metadata": {},
   "source": [
    "#### Название тикета\n",
    "* В названии чего только нет! Разобраться.\n",
    "* Пустота в начале что-нибудь значит?"
   ]
  },
  {
   "cell_type": "code",
   "execution_count": 204,
   "id": "6b4c7f11-2a5b-47e6-99b1-3a9ab3b51161",
   "metadata": {},
   "outputs": [
    {
     "data": {
      "text/plain": [
       "entity_id\n",
       "94297     2023-03-16 16:59:00.000000\n",
       "102481    2023-05-12 13:33:55.918127\n",
       "1805925   2023-07-12 09:36:04.479760\n",
       "1934905   2023-08-04 11:32:25.829919\n",
       "1943849   2023-08-09 06:20:44.391950\n",
       "Name: create_date, dtype: datetime64[ns]"
      ]
     },
     "execution_count": 204,
     "metadata": {},
     "output_type": "execute_result"
    }
   ],
   "source": [
    "dhack['create_date'].head()"
   ]
  },
  {
   "cell_type": "code",
   "execution_count": 205,
   "id": "4e43aaf5-d121-410e-b9c6-6ed4eb26eeca",
   "metadata": {},
   "outputs": [
    {
     "data": {
      "text/plain": [
       "entity_id\n",
       "94297                                    [FE] Бэклог. Кастомизация колонок. Кастомизация для панелей \"спринты\" и  \"бэклоги\" зависима друг от друга\n",
       "102481                                   [ГенераторДокументов] Интеграция со Система.ГенераторДокументов в части синхронизации Стандартных решений\n",
       "1805925          [FE] История изменений. Пустые строки в истории изменений, если выбрать значение, которое уже было выбрано до редактирования поля\n",
       "1934905                                                             [FE] Зависимые поля. Тип реакции disable НЕ работает для некоторых типов полей\n",
       "1943849                    [BE] При сортировке по Теме если знаки препинания стоят перед буквенными значениями сортировка отрабатывает неправильно\n",
       "                                                                            ...                                                                   \n",
       "2824925                                                                                      [ML Инц-2] Группировка инцидентов с помощью ML-модели\n",
       "2840563                                [FE] Таск трекер. Задублированные запросы personal-settings с фронта на представлениях Таск трекер и Бэклог\n",
       "2867204                                          [QA] API v1 Получение полной сущности со смаппленными кодами на универсальную модель справочника \n",
       "2887761                                                                                [СДок][BE][Иерархия заголовков] Разный шрифт для заголовков\n",
       "2938657    [FE] История изменений. Метки и компоненты. Некорректно отображение состава и статуса изменений меток и компонентов в истории изменений\n",
       "Name: name, Length: 20, dtype: object"
      ]
     },
     "execution_count": 205,
     "metadata": {},
     "output_type": "execute_result"
    }
   ],
   "source": [
    "pd.set_option('display.max_colwidth', None)\n",
    "dhack['name'].head(20)"
   ]
  },
  {
   "cell_type": "markdown",
   "id": "2da23948-0cfd-4d37-9427-9a99a4bc17e3",
   "metadata": {},
   "source": [
    "#### Кем создан\n",
    "* Не так уж много вариантов. Но кто эти люди — непонятно. Хорошо бы уметь настраивать имена.\n",
    "* Возможно, к задачам особо активных нужно проявить особое отношение в интерфейсе?\n",
    "* Только кириллица. Это приятно."
   ]
  },
  {
   "cell_type": "code",
   "execution_count": 207,
   "id": "2c878c61-a735-4a67-9196-932970d5f2fb",
   "metadata": {},
   "outputs": [
    {
     "data": {
      "text/plain": [
       "created_by\n",
       "Н. М.      1\n",
       "М. А.      1\n",
       "Л. П.      1\n",
       "М. С.      1\n",
       "С. Т.      1\n",
       "Д. Н.      1\n",
       "К. У.      1\n",
       "С. А.      1\n",
       "В. Т.      1\n",
       "И. Ш.      1\n",
       "В. Л.      1\n",
       "Я. Е.      2\n",
       "А. Л.      2\n",
       "А. Ж.      2\n",
       "А. Е.      2\n",
       "Т. Т.      2\n",
       "П. Л.      2\n",
       "В. И.      2\n",
       "С. Б.      2\n",
       "Н. Л.      3\n",
       "И. П.      3\n",
       "Д. З.      3\n",
       "А. У.      3\n",
       "В. Ш.      3\n",
       "Е. Ш.      3\n",
       "С. Н.      3\n",
       "А. Г.      3\n",
       "М. Т.      3\n",
       "Е. Л.      4\n",
       "Е. К.      4\n",
       "И. С.      4\n",
       "Р. Р.      4\n",
       "П. С.      5\n",
       "М. Ф.      7\n",
       "Т. С.      7\n",
       "В. К.      7\n",
       "П. М.      8\n",
       "О. У.      9\n",
       "Е. В.      9\n",
       "В. П.     10\n",
       "Т. Ч.     10\n",
       "Н. Т.     11\n",
       "Д. Ш.     11\n",
       "А. Б.     11\n",
       "К. Я.     11\n",
       "М. Н.     12\n",
       "Д. В.     12\n",
       "В. Ц.     12\n",
       "А. И.     12\n",
       "А. Ш.     13\n",
       "И. Д.     14\n",
       "О. Н.     15\n",
       "В. Д.     15\n",
       "Н. К.     15\n",
       "П. Х.     17\n",
       "М. Я.     17\n",
       "Д. Г.     18\n",
       "Е. М.     20\n",
       "А. Д.     20\n",
       "Н. В.     20\n",
       "В. Р.     23\n",
       "И. Т.     24\n",
       "И. М.     24\n",
       "А. Я.     25\n",
       "А. С.     26\n",
       "В. М.     27\n",
       "О. Г.     27\n",
       "Р. Б.     29\n",
       "Р. Е.     35\n",
       "М. К.     40\n",
       "А. З.     41\n",
       "А. Т.     41\n",
       "О. К.     42\n",
       "В. С.     42\n",
       "И. К.     51\n",
       "Д. Б.     56\n",
       "М. Д.     57\n",
       "Е. З.     58\n",
       "Б. П.     59\n",
       "А. М.     63\n",
       "М. Б.     64\n",
       "Д. П.     67\n",
       "Н. Н.     70\n",
       "Е. Б.     75\n",
       "Д. М.     86\n",
       "А. П.     89\n",
       "Д. С.    127\n",
       "А. А.    144\n",
       "Н. С.    145\n",
       "Я. П.    201\n",
       "А. К.    206\n",
       "dtype: int64"
      ]
     },
     "execution_count": 207,
     "metadata": {},
     "output_type": "execute_result"
    }
   ],
   "source": [
    "created_by_research = dhack.groupby('created_by').size()\n",
    "pd.set_option('display.max_rows', len(created_by_research))\n",
    "created_by_research.sort_values()"
   ]
  },
  {
   "cell_type": "markdown",
   "id": "25ff9d9c-3c9f-4494-9398-e0fd7b12304d",
   "metadata": {},
   "source": [
    "#### Дата последнего обновления\n",
    "* Стандартная дата, легко парсится, ничего особенного."
   ]
  },
  {
   "cell_type": "code",
   "execution_count": 209,
   "id": "243bc4a8-6504-4fc3-a7a9-8f32b45453fe",
   "metadata": {},
   "outputs": [
    {
     "data": {
      "text/plain": [
       "entity_id\n",
       "94297     2024-09-10 11:20:09.193785\n",
       "102481    2024-08-06 19:30:16.692683\n",
       "1805925   2024-11-05 15:02:00.900484\n",
       "1934905   2024-08-13 11:46:20.165757\n",
       "1943849   2024-07-18 08:23:39.657571\n",
       "1966759   2024-09-04 07:17:56.613513\n",
       "2353124   2024-09-19 15:48:16.634504\n",
       "2383243   2024-07-30 15:07:44.863470\n",
       "2441405   2024-09-03 10:33:50.369963\n",
       "2444222   2024-07-16 12:06:16.525857\n",
       "2503655   2024-07-22 13:10:34.908571\n",
       "2536878   2024-08-06 05:10:40.901890\n",
       "2540151   2024-09-11 08:29:51.809354\n",
       "2582366   2024-10-25 09:15:45.884875\n",
       "2623949   2024-07-31 09:22:53.938131\n",
       "2824925   2024-08-06 19:30:16.710853\n",
       "2840563   2024-09-02 11:41:38.380514\n",
       "2867204   2024-07-10 08:10:46.949956\n",
       "2887761   2024-07-03 14:32:01.022170\n",
       "2938657   2024-09-09 12:51:53.466795\n",
       "Name: update_date, dtype: datetime64[ns]"
      ]
     },
     "execution_count": 209,
     "metadata": {},
     "output_type": "execute_result"
    }
   ],
   "source": [
    "dhack['update_date'].head(20)"
   ]
  },
  {
   "cell_type": "markdown",
   "id": "95852336-115b-421f-94a5-2f3f62eaf530",
   "metadata": {},
   "source": [
    "#### Кто обновлял в последний раз\n",
    "* Где-то кириллица, а где-то латиница. Обращает на себя внимание."
   ]
  },
  {
   "cell_type": "code",
   "execution_count": 211,
   "id": "3c7fa0a5-3d49-4a87-9942-476fc49b884c",
   "metadata": {},
   "outputs": [
    {
     "data": {
      "text/plain": [
       "updated_by\n",
       "A. U.      1\n",
       "Д. У.      1\n",
       "Д. К.      1\n",
       "К. Я.      1\n",
       "Е. П.      1\n",
       "Р. Г.      1\n",
       "С. Т.      1\n",
       "Е. М.      1\n",
       "S. T.      1\n",
       "Y. K.      1\n",
       "Ш. Г.      1\n",
       "V. V.      1\n",
       "В. Ч.      2\n",
       "П. С.      2\n",
       "А. Л.      2\n",
       "А. Р.      3\n",
       "С. Б.      3\n",
       "А. Б.      3\n",
       "Ю. М.      3\n",
       "Р. А.      4\n",
       "М. Н.      4\n",
       "Д. Н.      6\n",
       "И. Ч.      6\n",
       "А. О.      6\n",
       "И. Д.      6\n",
       "Р. Р.      6\n",
       "Т. К.      6\n",
       "В. Ц.      6\n",
       "В. Ш.      6\n",
       "В. Ю.      7\n",
       "М. А.      7\n",
       "Н. М.      7\n",
       "И. П.      7\n",
       "Д. Ш.      7\n",
       "С. Н.      7\n",
       "И. Ш.      7\n",
       "Я. Е.      8\n",
       "С. А.      8\n",
       "К. Г.      8\n",
       "Т. С.      9\n",
       "Р. М.      9\n",
       "М. Т.      9\n",
       "М. Ф.     10\n",
       "О. У.     10\n",
       "Д. Ф.     10\n",
       "Т. Т.     10\n",
       "Р. В.     11\n",
       "Р. Б.     12\n",
       "П. Х.     13\n",
       "Е. Ш.     13\n",
       "Д. З.     13\n",
       "А. Ш.     14\n",
       "Е. К.     15\n",
       "Т. Х.     15\n",
       "Д. В.     16\n",
       "И. С.     16\n",
       "А. И.     16\n",
       "Е. В.     16\n",
       "М. К.     17\n",
       "А. Д.     18\n",
       "А. Е.     19\n",
       "В. Р.     19\n",
       "М. Я.     19\n",
       "Д. Г.     20\n",
       "В. П.     20\n",
       "Ф. Л.     21\n",
       "О. Г.     22\n",
       "И. Т.     23\n",
       "А. З.     23\n",
       "Н. В.     23\n",
       "Т. Ч.     24\n",
       "А. С.     24\n",
       "А. У.     25\n",
       "В. Д.     26\n",
       "Е. З.     28\n",
       "В. К.     29\n",
       "П. М.     29\n",
       "О. К.     30\n",
       "Д. С.     31\n",
       "И. М.     31\n",
       "Р. Е.     35\n",
       "А. М.     37\n",
       "Д. П.     38\n",
       "Н. С.     39\n",
       "А. Т.     43\n",
       "М. Д.     44\n",
       "Н. К.     46\n",
       "О. Н.     47\n",
       "В. С.     48\n",
       "Б. П.     53\n",
       "Е. Б.     54\n",
       "М. Б.     54\n",
       "И. К.     54\n",
       "Д. Б.     65\n",
       "А. Г.     65\n",
       "А. А.     71\n",
       "А. Я.     72\n",
       "Д. М.     72\n",
       "В. М.     74\n",
       "А. П.     84\n",
       "Н. Н.     84\n",
       "А. К.    124\n",
       "Я. П.    244\n",
       "dtype: int64"
      ]
     },
     "execution_count": 211,
     "metadata": {},
     "output_type": "execute_result"
    }
   ],
   "source": [
    "updated_by_research = dhack.groupby('updated_by').size()\n",
    "pd.set_option('display.max_rows', len(updated_by_research))\n",
    "updated_by_research.sort_values()"
   ]
  },
  {
   "cell_type": "code",
   "execution_count": null,
   "id": "4282064a-c5ad-47bf-9faf-dae883ce54ae",
   "metadata": {},
   "outputs": [],
   "source": []
  },
  {
   "cell_type": "markdown",
   "id": "e011c9bd-fde9-419d-a7a2-bb4667959002",
   "metadata": {},
   "source": [
    "#### Родительский тикет\n",
    "* Целые числа. По умолчанию в Dataframe появляется дробная часть :)\n",
    "* Есть тикеты-матки. Без родителей.\n",
    "* Прикольно было бы что-то сделать с деревом тикетов, конечно."
   ]
  },
  {
   "cell_type": "code",
   "execution_count": 213,
   "id": "5a4f7010-5b1c-4bbf-8a36-150cb8e1e7ac",
   "metadata": {},
   "outputs": [
    {
     "data": {
      "text/plain": [
       "entity_id\n",
       "94297        72779\n",
       "102481     3488105\n",
       "1805925       <NA>\n",
       "1934905       <NA>\n",
       "1943849    2083371\n",
       "Name: parent_ticket_id, dtype: Int64"
      ]
     },
     "execution_count": 213,
     "metadata": {},
     "output_type": "execute_result"
    }
   ],
   "source": [
    "dhack['parent_ticket_id'].head()"
   ]
  },
  {
   "cell_type": "code",
   "execution_count": 214,
   "id": "f8a9e7e8-84e5-4969-985e-ccb2fb52be03",
   "metadata": {},
   "outputs": [
    {
     "data": {
      "text/plain": [
       "807"
      ]
     },
     "execution_count": 214,
     "metadata": {},
     "output_type": "execute_result"
    }
   ],
   "source": [
    "# Сколько тикетов без родителей\n",
    "dhack['parent_ticket_id'].isnull().sum()"
   ]
  },
  {
   "cell_type": "markdown",
   "id": "da7d70f2-b1e0-471a-aac9-c1b4f129d9f1",
   "metadata": {},
   "source": [
    "#### Кто ответственный за тикет\n",
    "* Тоже местами всплывает латиница. Скорее всего, это ошибка, и надо дать пользователю возможность её исправить — назначить синонимы."
   ]
  },
  {
   "cell_type": "code",
   "execution_count": 216,
   "id": "f852b6e8-d935-4a5f-8a03-27cf30f1016e",
   "metadata": {},
   "outputs": [
    {
     "data": {
      "text/plain": [
       "assignee\n",
       "S. T.      1\n",
       "V. E.      1\n",
       "V. V.      1\n",
       "Ш. Г.      1\n",
       "В. И.      1\n",
       "Д. З.      1\n",
       "Д. К.      1\n",
       "С. Т.      1\n",
       "И. Н.      1\n",
       "В. Ц.      1\n",
       "С. Ш.      1\n",
       "A. U.      2\n",
       "В. Л.      2\n",
       "А. О.      2\n",
       "И. М.      2\n",
       "Л. П.      2\n",
       "С. Б.      3\n",
       "Д. У.      3\n",
       "А. Е.      4\n",
       "Р. Б.      4\n",
       "Р. А.      4\n",
       "А. Л.      4\n",
       "В. Р.      5\n",
       "И. Ч.      6\n",
       "В. Ч.      6\n",
       "Н. М.      6\n",
       "К. Г.      7\n",
       "А. Р.      7\n",
       "Я. Е.      7\n",
       "И. Ш.      8\n",
       "И. Д.      8\n",
       "В. Ш.      8\n",
       "А. Ж.      8\n",
       "Р. Р.      9\n",
       "Д. Ш.      9\n",
       "М. Т.     10\n",
       "М. Ф.     10\n",
       "М. А.     10\n",
       "М. К.     11\n",
       "Т. Т.     11\n",
       "К. Я.     12\n",
       "Р. В.     13\n",
       "Е. В.     13\n",
       "Т. С.     14\n",
       "А. Я.     14\n",
       "Е. З.     14\n",
       "А. Б.     14\n",
       "М. Я.     15\n",
       "Е. Ш.     16\n",
       "Р. Е.     16\n",
       "А. И.     16\n",
       "Д. С.     16\n",
       "П. Х.     17\n",
       "И. П.     17\n",
       "О. К.     18\n",
       "Д. Н.     19\n",
       "Д. Г.     19\n",
       "В. Ю.     19\n",
       "А. З.     19\n",
       "А. Ш.     19\n",
       "А. Т.     20\n",
       "О. Г.     20\n",
       "И. С.     21\n",
       "И. Б.     23\n",
       "В. Д.     23\n",
       "С. Н.     24\n",
       "Т. Х.     24\n",
       "С. А.     24\n",
       "В. П.     24\n",
       "Е. К.     26\n",
       "Ф. Л.     27\n",
       "Д. В.     28\n",
       "М. Б.     28\n",
       "Н. В.     28\n",
       "Е. Б.     30\n",
       "А. У.     31\n",
       "П. М.     31\n",
       "И. Т.     31\n",
       "Р. М.     31\n",
       "Т. Ч.     32\n",
       "А. С.     34\n",
       "А. Д.     35\n",
       "Д. П.     39\n",
       "В. К.     40\n",
       "А. А.     41\n",
       "М. Д.     46\n",
       "Н. К.     47\n",
       "О. Н.     47\n",
       "Н. С.     47\n",
       "И. К.     53\n",
       "Б. П.     56\n",
       "А. М.     60\n",
       "А. Г.     61\n",
       "В. С.     63\n",
       "Н. Н.     64\n",
       "Д. Б.     70\n",
       "Д. М.     74\n",
       "А. П.     87\n",
       "В. М.     91\n",
       "А. К.    165\n",
       "Я. П.    198\n",
       "dtype: int64"
      ]
     },
     "execution_count": 216,
     "metadata": {},
     "output_type": "execute_result"
    }
   ],
   "source": [
    "dhack.groupby('assignee').size().sort_values()"
   ]
  },
  {
   "cell_type": "markdown",
   "id": "1b4146bb-ad86-47f4-917e-e17f0a9b4d5f",
   "metadata": {},
   "source": [
    "#### Кто владелец тикета\n",
    "* Неожиданно много.\n",
    "* Надо проверить, совпадает ли владелец с назначившим."
   ]
  },
  {
   "cell_type": "code",
   "execution_count": 218,
   "id": "b573cb64-2d9e-48d0-981a-c8021f01836c",
   "metadata": {},
   "outputs": [
    {
     "data": {
      "text/plain": [
       "owner\n",
       "Л. П.      1\n",
       "И. Б.      1\n",
       "И. Ш.      1\n",
       "К. У.      1\n",
       "Д. У.      1\n",
       "М. А.      1\n",
       "М. В.      1\n",
       "М. С.      1\n",
       "Д. Н.      1\n",
       "Р. Е.      1\n",
       "П. Х.      1\n",
       "А. Л.      2\n",
       "И. П.      2\n",
       "А. Г.      2\n",
       "В. И.      2\n",
       "А. Р.      2\n",
       "А. Ж.      3\n",
       "Н. Л.      3\n",
       "М. Т.      3\n",
       "В. К.      3\n",
       "И. К.      3\n",
       "В. П.      3\n",
       "С. Н.      3\n",
       "Е. В.      3\n",
       "А. Е.      3\n",
       "Е. Ш.      3\n",
       "Т. Ч.      4\n",
       "М. Ф.      4\n",
       "Е. Л.      4\n",
       "С. Т.      4\n",
       "А. И.      4\n",
       "Д. З.      5\n",
       "С. Б.      6\n",
       "Т. С.      7\n",
       "П. С.      7\n",
       "М. Ч.      7\n",
       "В. Д.      8\n",
       "С. А.      8\n",
       "О. У.     10\n",
       "Н. Т.     11\n",
       "А. Ш.     11\n",
       "В. Ц.     12\n",
       "К. Я.     12\n",
       "Д. Г.     12\n",
       "Д. Ш.     12\n",
       "А. Б.     12\n",
       "М. Н.     13\n",
       "Н. В.     14\n",
       "О. Н.     14\n",
       "И. Д.     15\n",
       "О. Г.     16\n",
       "А. Д.     16\n",
       "Е. М.     19\n",
       "Н. К.     21\n",
       "А. С.     23\n",
       "Д. Б.     24\n",
       "О. К.     28\n",
       "В. М.     29\n",
       "В. С.     34\n",
       "А. Т.     35\n",
       "А. З.     35\n",
       "Д. П.     36\n",
       "В. Р.     38\n",
       "М. Я.     38\n",
       "И. Т.     40\n",
       "М. Б.     42\n",
       "Р. Б.     48\n",
       "М. Д.     57\n",
       "Б. П.     57\n",
       "Н. Н.     59\n",
       "А. М.     63\n",
       "М. К.     64\n",
       "Е. Б.     74\n",
       "Д. С.     79\n",
       "Е. З.     82\n",
       "А. П.     86\n",
       "И. М.     89\n",
       "Н. С.     98\n",
       "Д. М.    119\n",
       "П. Л.    141\n",
       "А. А.    173\n",
       "Я. П.    211\n",
       "А. К.    220\n",
       "dtype: int64"
      ]
     },
     "execution_count": 218,
     "metadata": {},
     "output_type": "execute_result"
    }
   ],
   "source": [
    "dhack.groupby('owner').size().sort_values()"
   ]
  },
  {
   "cell_type": "markdown",
   "id": "69df88c5-df48-4fa9-8df2-2625e0665f50",
   "metadata": {},
   "source": [
    "#### Какая-то дата (исполнения?)\n",
    "* В чём смысл этой колонки? Что-то про дату.\n",
    "* Почти всё пустое. Игнорим?"
   ]
  },
  {
   "cell_type": "code",
   "execution_count": 220,
   "id": "5b61ec63-e79c-4468-b697-c1bde14027a6",
   "metadata": {},
   "outputs": [
    {
     "data": {
      "text/plain": [
       "           due_date  \\\n",
       "entity_id             \n",
       "4498695    10/22/24   \n",
       "4514809    10/31/24   \n",
       "4373318    10/31/24   \n",
       "4594769    10/31/24   \n",
       "4491114    10/31/24   \n",
       "4914666    10/31/24   \n",
       "5172513     10/9/24   \n",
       "5172290     10/9/24   \n",
       "4603898     11/7/24   \n",
       "4309869     6/27/24   \n",
       "\n",
       "                                                                                                                      name  \n",
       "entity_id                                                                                                                   \n",
       "4498695                                                                          [PPPL] Разработка документации по BE SDK   \n",
       "4514809       [Дефект][ПРОМ][FE] не выделяются инлайн комментарии и не отображаются комментарии к ним на старых страницах   \n",
       "4373318                                          [Дефект][ПРОМ][FE] не отображается макрос QL в макросе \"вложенная статья\"  \n",
       "4594769                          [Дефект][ПРОМ][FE] Невидимая кнопка \"скачать\" при открытии картинки в полноэкранный режим  \n",
       "4491114    [Дефект][ПРОМ][FE] Нельзя кликнуть по поисковым символам совпадения при поиске пространства для перехода в него  \n",
       "4914666                                      [Дефект] [FE] Ошибка при отображении таблиц Система.Вики 2066 Клиент/Компания  \n",
       "5172513                                        [UX] Администрирование справочников – перевод на актуальную библиотеку Antd  \n",
       "5172290                                                        [UX] Зависимые поля – перевод на актуальную библиотеку Antd  \n",
       "4603898                   [Дефект][ПРОМ][FE] Не работает настройка доступа на страницу при наличии роли редактора страницы  \n",
       "4309869                                                           [PPRC-FW] Реализована функциональность адаптера СС.Аудит  "
      ]
     },
     "execution_count": 220,
     "metadata": {},
     "output_type": "execute_result"
    }
   ],
   "source": [
    "dhack[['due_date', 'name']].sort_values(by='due_date').head(10)"
   ]
  },
  {
   "cell_type": "code",
   "execution_count": 221,
   "id": "c7393bd7-31d4-44a3-bd5a-8a407b68e508",
   "metadata": {},
   "outputs": [
    {
     "data": {
      "text/plain": [
       "entity_id\n",
       "94297                                                                                                                                                                                                                                                                                                                              0|qzzywk:\n",
       "102481                                                                                                                                                                                                                                                                                                                            0|qv7n1c:y\n",
       "1805925                                                                                                                                                                                                                                                                                                                            0|qzsklw:\n",
       "1934905                                                                                                                                                                                                                                                                                                                            0|qzh3e8:\n",
       "1943849    0|qzzywj:zzzzzzzzzzzzzzzzzzzzzzzzzzzzzzzzzzzzzzzzzzzzzzzzzzzzzzzzzzzzzzzzzzzzzzzzzzzzzzzzzzzzzzzzzzzzzzzzzzzzzzzzzzzzzzzzzzzzzzzzzzzzzzzzzzzzzzzzzzzzzzzzzzzzzzzzzzzzzzzzzzzzzzzzzzzzzzzzzzzzzzzzzzzzzzzzzzzzzzzzzzzzzzzzzzzzzzzzzzzzzzzzzzzzzzzzzzzzzzzzzzzzzzzzzzzzzzzzzzzzzzzzzzzzzzzzzzzzzzzzzzzzzzzzzzzzzzzzzzzzzzzzzzzzzzzm\n",
       "Name: rank, dtype: object"
      ]
     },
     "execution_count": 221,
     "metadata": {},
     "output_type": "execute_result"
    }
   ],
   "source": [
    "dhack['rank'].head()"
   ]
  },
  {
   "cell_type": "code",
   "execution_count": 222,
   "id": "1b8e0cc4-3332-4d3e-bb65-f1de023e3be4",
   "metadata": {},
   "outputs": [
    {
     "data": {
      "text/plain": [
       "2431"
      ]
     },
     "execution_count": 222,
     "metadata": {},
     "output_type": "execute_result"
    }
   ],
   "source": [
    "# Считаем пустые ячейки\n",
    "dhack['due_date'].isna().sum()"
   ]
  },
  {
   "cell_type": "markdown",
   "id": "61270acb-1374-41d5-a9f4-5e342b633081",
   "metadata": {},
   "source": [
    "#### Ранг?\n",
    "* Что это значит? Какой-то внутренний код? Как можем использовать?\n",
    "* Есть ошибки в данных."
   ]
  },
  {
   "cell_type": "code",
   "execution_count": null,
   "id": "dbaa87ed-88b2-4207-92fb-6a9787710061",
   "metadata": {},
   "outputs": [],
   "source": []
  },
  {
   "cell_type": "markdown",
   "id": "ba292acc-e8a6-42f0-82ce-ad249e7c1e75",
   "metadata": {},
   "source": [
    "#### Оценка трудозатрат\n",
    "* Дана в секундах, что ли?\n",
    "* Делим на 3600, чтобы получить часы."
   ]
  },
  {
   "cell_type": "code",
   "execution_count": 225,
   "id": "d0941f05-1617-4965-a342-5d8f72a98823",
   "metadata": {},
   "outputs": [
    {
     "data": {
      "text/plain": [
       "entity_id\n",
       "94297          60\n",
       "102481     432000\n",
       "1805925        60\n",
       "1934905      <NA>\n",
       "1943849      <NA>\n",
       "Name: estimation, dtype: Int64"
      ]
     },
     "execution_count": 225,
     "metadata": {},
     "output_type": "execute_result"
    }
   ],
   "source": [
    "dhack['estimation'].head()"
   ]
  },
  {
   "cell_type": "code",
   "execution_count": 226,
   "id": "375f215b-1122-4fdf-b9c4-da38b28fa31f",
   "metadata": {},
   "outputs": [
    {
     "data": {
      "text/plain": [
       "entity_id\n",
       "3725698    264\n",
       "4455271    240\n",
       "4012062    160\n",
       "4317974    152\n",
       "102481     120\n",
       "4510102    120\n",
       "4441120     96\n",
       "4817393     80\n",
       "4793198     80\n",
       "4319042     80\n",
       "Name: estimation, dtype: Int64"
      ]
     },
     "execution_count": 226,
     "metadata": {},
     "output_type": "execute_result"
    }
   ],
   "source": [
    "estimation_hours = (dhack['estimation'].fillna(0) / 3600).astype('Int64')\n",
    "estimation_hours.sort_values(ascending=False).head(10)"
   ]
  },
  {
   "cell_type": "code",
   "execution_count": null,
   "id": "83f98c21-63e6-4006-8770-9475ad334a43",
   "metadata": {},
   "outputs": [],
   "source": []
  },
  {
   "cell_type": "markdown",
   "id": "5f3984f3-9003-40aa-ae66-df4cff8ecc8f",
   "metadata": {},
   "source": [
    "#### Уже потраченное время\n",
    "* Так же, как и оценкой — делим на 3600."
   ]
  },
  {
   "cell_type": "code",
   "execution_count": 228,
   "id": "95a7f32d-eeb7-458b-ae49-9d9bf451ca85",
   "metadata": {},
   "outputs": [
    {
     "data": {
      "text/plain": [
       "entity_id\n",
       "5005327    80\n",
       "4861719    64\n",
       "4558467    64\n",
       "4438203    64\n",
       "4444351    64\n",
       "Name: spent, dtype: Int64"
      ]
     },
     "execution_count": 228,
     "metadata": {},
     "output_type": "execute_result"
    }
   ],
   "source": [
    "spent_hours = (dhack['spent'].fillna(0) / 3600).astype('Int64')\n",
    "spent_hours.sort_values(ascending=False).head()"
   ]
  },
  {
   "cell_type": "markdown",
   "id": "b336a640-deb9-4ab7-a810-492e0171ca3a",
   "metadata": {},
   "source": [
    "#### Рабочая группа\n",
    "* Что это?\n",
    "* Называется вроде осмысленно, можно не править.\n",
    "* Много пустых ячеек."
   ]
  },
  {
   "cell_type": "code",
   "execution_count": 230,
   "id": "7ff0c278-4625-4657-8298-dce34c2d6f13",
   "metadata": {},
   "outputs": [
    {
     "data": {
      "text/plain": [
       "workgroup\n",
       "Архитектурная задача       15\n",
       "Технический долг           66\n",
       "Линейная деятельность     273\n",
       "Новая функциональность    722\n",
       "dtype: int64"
      ]
     },
     "execution_count": 230,
     "metadata": {},
     "output_type": "execute_result"
    }
   ],
   "source": [
    "dhack.groupby('workgroup').size().sort_values()"
   ]
  },
  {
   "cell_type": "code",
   "execution_count": null,
   "id": "db63ae79-d311-436d-aaca-e45115addc5f",
   "metadata": {},
   "outputs": [],
   "source": []
  },
  {
   "cell_type": "code",
   "execution_count": 231,
   "id": "51ca62f7-a3e8-4c7c-a3bb-945d44995ef7",
   "metadata": {},
   "outputs": [
    {
     "data": {
      "text/plain": [
       "1409"
      ]
     },
     "execution_count": 231,
     "metadata": {},
     "output_type": "execute_result"
    }
   ],
   "source": [
    "# Считаем пустые ячейки\n",
    "dhack['workgroup'].isna().sum()"
   ]
  },
  {
   "cell_type": "markdown",
   "id": "e9e427cf-5ec1-4947-84a9-3ce2fdc4715c",
   "metadata": {},
   "source": [
    "#### Резолюция\n",
    "* Есть некоторое количество пустых. Что с ними делать?"
   ]
  },
  {
   "cell_type": "code",
   "execution_count": 233,
   "id": "84999c9a-ed57-4d96-b6cb-489a96f4df9d",
   "metadata": {},
   "outputs": [
    {
     "data": {
      "text/plain": [
       "resolution\n",
       "Готово                 1926\n",
       "Дубликат                 23\n",
       "Отклонено                33\n",
       "Отменен инициатором      45\n",
       "dtype: int64"
      ]
     },
     "execution_count": 233,
     "metadata": {},
     "output_type": "execute_result"
    }
   ],
   "source": [
    "dhack.groupby('resolution').size()"
   ]
  },
  {
   "cell_type": "code",
   "execution_count": null,
   "id": "c901560e-48ad-4616-8fd0-3533524cba00",
   "metadata": {},
   "outputs": [],
   "source": []
  },
  {
   "cell_type": "code",
   "execution_count": null,
   "id": "582fcc92-7bfc-4e19-96f2-586a8d0000c9",
   "metadata": {},
   "outputs": [],
   "source": []
  },
  {
   "cell_type": "code",
   "execution_count": 234,
   "id": "1659fcff-d15d-40e4-9cda-746545500360",
   "metadata": {},
   "outputs": [
    {
     "data": {
      "text/plain": [
       "458"
      ]
     },
     "execution_count": 234,
     "metadata": {},
     "output_type": "execute_result"
    }
   ],
   "source": [
    "# Считаем пустые ячейки\n",
    "dhack['resolution'].isna().sum()"
   ]
  },
  {
   "cell_type": "markdown",
   "id": "46bace94-d2df-4615-8e2e-a87cf574ec46",
   "metadata": {},
   "source": [
    "## Архив"
   ]
  },
  {
   "cell_type": "code",
   "execution_count": 236,
   "id": "2d536626-8273-4637-9eb3-66fbdb37cd5e",
   "metadata": {},
   "outputs": [],
   "source": [
    "#dhis = pd.read_csv(history_file, delimiter=';')\n",
    "#dser = pd.read_csv(series_file, delimiter=';')"
   ]
  }
 ],
 "metadata": {
  "kernelspec": {
   "display_name": "Python 3 (ipykernel)",
   "language": "python",
   "name": "python3"
  },
  "language_info": {
   "codemirror_mode": {
    "name": "ipython",
    "version": 3
   },
   "file_extension": ".py",
   "mimetype": "text/x-python",
   "name": "python",
   "nbconvert_exporter": "python",
   "pygments_lexer": "ipython3",
   "version": "3.12.7"
  }
 },
 "nbformat": 4,
 "nbformat_minor": 5
}
