{
 "cells": [
  {
   "cell_type": "markdown",
   "id": "8de7bbd0-7a13-4b7d-8646-8f59ceddd57f",
   "metadata": {
    "jp-MarkdownHeadingCollapsed": true
   },
   "source": [
    "## Подготовка"
   ]
  },
  {
   "cell_type": "code",
   "execution_count": 305,
   "id": "ebff5c13-e2b7-42df-b1d5-0a920a5c04ed",
   "metadata": {},
   "outputs": [],
   "source": [
    "# Предварительная настройка системы\n",
    "import numpy as np\n",
    "import pandas as pd\n",
    "\n",
    "pd.set_option('display.notebook_repr_html', False)\n",
    "pd.set_option('display.max_columns', 8)\n",
    "pd.set_option('display.max_rows', 10)\n",
    "pd.set_option('display.width', 80)\n",
    "\n",
    "import datetime\n",
    "from datetime import datetime, date"
   ]
  },
  {
   "cell_type": "code",
   "execution_count": 306,
   "id": "3f78c527-c276-48cf-896f-b29e58ae1355",
   "metadata": {},
   "outputs": [],
   "source": [
    "# Каталог с CSV-файлами\n",
    "src_csv_dir = '../csv/'\n",
    "src_hackaton_file = 'data_for_spb_hakaton_entities1-Table 1.csv'  # данные хакатона\n",
    "src_history_file  = 'history-Table 1.csv'                         # история изменений\n",
    "src_sprints_file  = 'sprints-Table 1.csv'                         # спринты"
   ]
  },
  {
   "cell_type": "code",
   "execution_count": 307,
   "id": "e4362ca5-a4f7-451c-aca6-5d9b5408f2c1",
   "metadata": {},
   "outputs": [],
   "source": [
    "# Загружаем исходник спринтов\n",
    "dS = pd.read_csv(f\"{src_csv_dir}{src_sprints_file}\",\n",
    "                    header=1,\n",
    "                    parse_dates=[\n",
    "                        'sprint_start_date',\n",
    "                        'sprint_end_date'\n",
    "                    ],\n",
    "                    delimiter=\";\"\n",
    "                  )\n",
    "# dS.head(10)"
   ]
  },
  {
   "cell_type": "code",
   "execution_count": 308,
   "id": "5d868865-3f82-40f0-8700-422fbaba303e",
   "metadata": {},
   "outputs": [],
   "source": [
    "# Считываем данные для таблицы связей спринтов и задач\n",
    "dSE_add_list = list([])\n",
    "for _, row in dS[['sprint_name', 'entity_ids']].iterrows():\n",
    "    esl = list(map(int, row['entity_ids'].strip(\"{}\").split(\",\")))\n",
    "    for l in esl:\n",
    "        dSE_add_list.append({\n",
    "            'entity_id': l,\n",
    "            'sprint': row['sprint_name']  # TODO Заменить на ID\n",
    "        })\n",
    "\n",
    "# dSE_add_list[:20]"
   ]
  },
  {
   "cell_type": "code",
   "execution_count": 309,
   "id": "addf53b7-f970-407c-b76e-aaad3d9d2a0e",
   "metadata": {},
   "outputs": [],
   "source": [
    "# Создаём таблицу связей спринтов и задач\n",
    "dSE = pd.DataFrame(dSE_add_list)\n",
    "dSE['entity_id'] = pd.to_numeric(dSE['entity_id'])\n",
    "\n",
    "# dSE.dtypes"
   ]
  },
  {
   "cell_type": "code",
   "execution_count": 310,
   "id": "5704c3e0-97de-4cf2-95ac-b7f23ed1d57f",
   "metadata": {},
   "outputs": [],
   "source": [
    "# Загружаем историю\n",
    "dH = pd.read_csv(f\"{src_csv_dir}{src_history_file}\",\n",
    "                     header=1,\n",
    "                     delimiter=\";\"\n",
    "                )\n",
    "\n",
    "# dH"
   ]
  },
  {
   "cell_type": "code",
   "execution_count": 311,
   "id": "c4789d41-ee17-456f-b852-69b521649a89",
   "metadata": {},
   "outputs": [
    {
     "data": {
      "text/plain": [
       "       entity_id   history_property_name   history_date  history_version  \\\n",
       "0        94297.0  Время решения 3ЛП ФАКТ  9/10/24 11:17              1.0   \n",
       "1        94297.0    Время решения (ФАКТ)  9/10/24 11:17              1.0   \n",
       "2        94297.0             Исполнитель  7/13/23 11:07              1.0   \n",
       "3            NaN                     NaN            NaN              NaN   \n",
       "4        94297.0             Исполнитель  7/21/23 11:06              3.0   \n",
       "...          ...                     ...            ...              ...   \n",
       "64174  5179881.0                  Спринт  10/23/24 7:00             11.0   \n",
       "64175  5179881.0                  Спринт  10/23/24 7:00             11.0   \n",
       "64176  5179881.0                  Спринт  10/23/24 7:00             11.0   \n",
       "64177  5179881.0               Резолюция  10/23/24 7:00             12.0   \n",
       "64178  5179881.0                  Статус  10/23/24 7:00             12.0   \n",
       "\n",
       "      history_change_type                                     history_change  \n",
       "0           FIELD_CHANGED              <empty> -> 2024-09-10 11:17:06.680223  \n",
       "1           FIELD_CHANGED              <empty> -> 2024-09-10 11:17:06.680223  \n",
       "2           FIELD_CHANGED  user409017mail@mail.com -> user408045mail@mail...  \n",
       "3                     NaN                                                NaN  \n",
       "4           FIELD_CHANGED       user4080458@mail.com -> user4091341@mail.com  \n",
       "...                   ...                                                ...  \n",
       "64174       FIELD_CHANGED  Спринт 2024.4.1.NPP Shared Sprint -> Спринт 20...  \n",
       "64175       FIELD_CHANGED  Спринт 2024.4.1.NPP Shared Sprint -> Спринт 20...  \n",
       "64176       FIELD_CHANGED  Спринт 2024.4.1.NPP Shared Sprint -> Спринт 20...  \n",
       "64177       FIELD_CHANGED                                  <empty> -> Готово  \n",
       "64178       FIELD_CHANGED                               inProgress -> closed  \n",
       "\n",
       "[64179 rows x 6 columns]"
      ]
     },
     "execution_count": 311,
     "metadata": {},
     "output_type": "execute_result"
    }
   ],
   "source": [
    "# Удаляем лишние колонки в истории\n",
    "dH.drop(columns=['Столбец1', 'Unnamed: 7'], inplace=True)\n",
    "# dH.dtypes\n",
    "dH"
   ]
  },
  {
   "cell_type": "code",
   "execution_count": 312,
   "id": "75d6141a-f2e7-4240-bf20-387f4635bf33",
   "metadata": {},
   "outputs": [
    {
     "data": {
      "text/plain": [
       "       entity_id   history_property_name        history_date  history_version  \\\n",
       "0          94297  Время решения 3ЛП ФАКТ 2024-09-10 11:17:00                1   \n",
       "1          94297    Время решения (ФАКТ) 2024-09-10 11:17:00                1   \n",
       "2          94297             Исполнитель 2023-07-13 11:07:00                1   \n",
       "3           <NA>                     NaN                 NaT             <NA>   \n",
       "4          94297             Исполнитель 2023-07-21 11:06:00                3   \n",
       "...          ...                     ...                 ...              ...   \n",
       "64174    5179881                  Спринт 2024-10-23 07:00:00               11   \n",
       "64175    5179881                  Спринт 2024-10-23 07:00:00               11   \n",
       "64176    5179881                  Спринт 2024-10-23 07:00:00               11   \n",
       "64177    5179881               Резолюция 2024-10-23 07:00:00               12   \n",
       "64178    5179881                  Статус 2024-10-23 07:00:00               12   \n",
       "\n",
       "      history_change_type                                     history_change  \n",
       "0           FIELD_CHANGED              <empty> -> 2024-09-10 11:17:06.680223  \n",
       "1           FIELD_CHANGED              <empty> -> 2024-09-10 11:17:06.680223  \n",
       "2           FIELD_CHANGED  user409017mail@mail.com -> user408045mail@mail...  \n",
       "3                     NaN                                                NaN  \n",
       "4           FIELD_CHANGED       user4080458@mail.com -> user4091341@mail.com  \n",
       "...                   ...                                                ...  \n",
       "64174       FIELD_CHANGED  Спринт 2024.4.1.NPP Shared Sprint -> Спринт 20...  \n",
       "64175       FIELD_CHANGED  Спринт 2024.4.1.NPP Shared Sprint -> Спринт 20...  \n",
       "64176       FIELD_CHANGED  Спринт 2024.4.1.NPP Shared Sprint -> Спринт 20...  \n",
       "64177       FIELD_CHANGED                                  <empty> -> Готово  \n",
       "64178       FIELD_CHANGED                               inProgress -> closed  \n",
       "\n",
       "[64179 rows x 6 columns]"
      ]
     },
     "execution_count": 312,
     "metadata": {},
     "output_type": "execute_result"
    }
   ],
   "source": [
    "# Нормализуем типы данных в истории\n",
    "dH['entity_id'] = dH['entity_id'].astype('Int64')\n",
    "dH['history_version'] = dH['history_version'].astype('Int64')\n",
    "dH['history_date'] = pd.to_datetime(dH['history_date'], format='%m/%d/%y %H:%M', errors='coerce')\n",
    "# dH.dtypes\n",
    "dH"
   ]
  },
  {
   "cell_type": "code",
   "execution_count": 313,
   "id": "27e93e6f-8e79-4e04-b3ad-28b10ff4fdc2",
   "metadata": {},
   "outputs": [],
   "source": [
    "# Готовим данные для таблицы истории изменений статусов\n",
    "dHS_pre = dH.loc[dH['history_property_name'] == 'Статус']\n",
    "dHS_add_list = list([])\n",
    "for index, row in dHS_pre.iterrows():\n",
    "    (before, after) = row['history_change'].split(\" -> \")\n",
    "    dHS_add_list.append({\n",
    "        'entity_id': row['entity_id'],\n",
    "        'history_date': row['history_date'],\n",
    "        'history_version': row['history_version'],\n",
    "        'before': before,\n",
    "        'after': after\n",
    "    })\n",
    "\n",
    "# dHS_add_list[:20]"
   ]
  },
  {
   "cell_type": "code",
   "execution_count": 323,
   "id": "132c7687-ba6b-4a9c-baa4-60b6106d5bc8",
   "metadata": {},
   "outputs": [
    {
     "data": {
      "text/plain": [
       "      entity_id        history_date  history_version      before       after\n",
       "0         94297 2024-09-10 11:16:00                7     created    analysis\n",
       "1         94297 2024-09-10 11:17:00                8    analysis      fixing\n",
       "2         94297 2024-09-10 11:17:00                9      fixing     testing\n",
       "3         94297 2024-09-10 11:17:00               10     testing      closed\n",
       "4        102481 2023-10-23 15:52:00               34     created    analysis\n",
       "...         ...                 ...              ...         ...         ...\n",
       "6959    5179847 2024-09-24 12:35:00                7     created  inProgress\n",
       "6960    5179847 2024-09-26 06:43:00               10  inProgress        done\n",
       "6961    5179847 2024-09-26 06:44:00               11        done      closed\n",
       "6962    5179881 2024-10-08 06:47:00                8     created  inProgress\n",
       "6963    5179881 2024-10-23 07:00:00               12  inProgress      closed\n",
       "\n",
       "[6964 rows x 5 columns]"
      ]
     },
     "execution_count": 323,
     "metadata": {},
     "output_type": "execute_result"
    }
   ],
   "source": [
    "# Заполняем таблицу истории изменений статусов\n",
    "dHS = pd.DataFrame(dHS_add_list)\n",
    "dHS['entity_id'] = dHS['entity_id'].astype('Int64')\n",
    "dHS['history_version'] = dHS['history_version'].astype('Int64')\n",
    "dHS['history_date'] = pd.to_datetime(dHS['history_date'])\n",
    "dHS"
   ]
  },
  {
   "cell_type": "markdown",
   "id": "e0d4755e-dd4a-4746-986a-faa212cfb884",
   "metadata": {},
   "source": [
    "## Метрики"
   ]
  },
  {
   "cell_type": "code",
   "execution_count": null,
   "id": "9a22101d-603e-4578-af22-b46371aebc1e",
   "metadata": {},
   "outputs": [],
   "source": []
  }
 ],
 "metadata": {
  "kernelspec": {
   "display_name": "Python 3 (ipykernel)",
   "language": "python",
   "name": "python3"
  },
  "language_info": {
   "codemirror_mode": {
    "name": "ipython",
    "version": 3
   },
   "file_extension": ".py",
   "mimetype": "text/x-python",
   "name": "python",
   "nbconvert_exporter": "python",
   "pygments_lexer": "ipython3",
   "version": "3.12.7"
  }
 },
 "nbformat": 4,
 "nbformat_minor": 5
}
